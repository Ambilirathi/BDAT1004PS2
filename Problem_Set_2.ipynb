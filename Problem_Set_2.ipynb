{
 "cells": [
  {
   "cell_type": "markdown",
   "id": "788e7db9",
   "metadata": {},
   "source": [
    "#Question 1:\n",
    "===========\n",
    "\n",
    "\n",
    "\n",
    "Answer and Explanation:\n",
    "=====================\n",
    "\n",
    "The value 6 is shown after the final evaluation of expression (a).\n",
    "\n",
    "When imported into the interpreter, the module defines three entities.\n",
    "\n",
    "a) The variable \"a\" was initially assigned to the global variable as zero.\n",
    "b) In the function \"b,\" which invokes the \"c\" function to change the value of \"a,\"\n",
    "c) The function \"c,\" which accepts the parameter \"a\" and returns \"a\" plus 2, is being used.\n",
    "\n",
    "step-by-step:\n",
    "-------------------\n",
    "First, the global variable 'a' is changed when 'b' is called and by invoking 'c(a),' which returns the value of 'a' (now 0) + 2, making 'a' become 2.\n",
    "\n",
    "then, the second time 'b' is called, it updates 'a' once more by calling 'c(a)' with the updated value of 'a' (which is now 2), making 'a' turn into '4'.\n",
    "\n",
    "Finally, the third time 'b' is called, it modifies 'a' once more by calling 'c(a),' which will give a new value to variable 'a' of 6 (after adding 4 and 2).\n",
    "\n",
    "Hence, when the final expression \"a\" is evaluated, the output will be shown as 6, which is the current value of the global variable \"a.\""
   ]
  },
  {
   "cell_type": "code",
   "execution_count": null,
   "id": "005d83a4",
   "metadata": {},
   "outputs": [],
   "source": [
    "#Output of Question 1:\n",
    "a = 0\n",
    "def b():\n",
    "    global a\n",
    "    a = c(a)\n",
    "    \n",
    "def c(a):\n",
    "    return a + 2\n",
    "\n",
    "b()\n",
    "b()\n",
    "b()\n",
    "a"
   ]
  },
  {
   "cell_type": "code",
   "execution_count": 13,
   "id": "4ae013e8",
   "metadata": {},
   "outputs": [
    {
     "name": "stdout",
     "output_type": "stream",
     "text": [
      "Total lines: 60\n",
      "File idterm.py not found.\n"
     ]
    }
   ],
   "source": [
    "#Question 2\n",
    "\n",
    "def file_length(file_name):\n",
    "    \n",
    "    try:\n",
    "        file = open(file_name)      #Checking the file is readable or not\n",
    "       #print(file.readable())\n",
    "        V=file.readable()\n",
    "        if V == True:\n",
    "            \n",
    "            with open(file_name, 'r') as fl:\n",
    "                x = len(fl.readlines())         #taking count of the lines\n",
    "            print('Total lines:', x)\n",
    "               # with open(file_name, 'r') as file:\n",
    "       #     num_lines = sum(1 for line in file)\n",
    "       # print('Total lines:', num_lines) \n",
    "            \n",
    "        else:\n",
    "            \n",
    "            raise Exception(f\"File {file_name} not found\")   #throwing exception\n",
    "    \n",
    "    except Exception as error:\n",
    "            print(f\"File {file_name} not found.\")\n",
    "        \n",
    "file_length('midterm.py')\n",
    "file_length('idterm.py')"
   ]
  },
  {
   "cell_type": "code",
   "execution_count": 14,
   "id": "951785db",
   "metadata": {},
   "outputs": [
    {
     "name": "stdout",
     "output_type": "stream",
     "text": [
      "['doll', 'firetruck', 'kitten']\n"
     ]
    }
   ],
   "source": [
    "#Question 3\n",
    "\n",
    "class Marsupial:\n",
    "    def __init__(sf):     #constructor\n",
    "        sf.pou_con = []   \n",
    "\n",
    "    def put_in_pouch(sf, i):\n",
    "        sf.pou_con.append(i)  #values appending\n",
    "\n",
    "    def pouch_contents(sf):\n",
    "        return sf.pou_con     #fetching values\n",
    "\n",
    "\n",
    "\n",
    "\n",
    "# calling\n",
    "m = Marsupial()   \n",
    "m.put_in_pouch('doll')\n",
    "m.put_in_pouch('firetruck')\n",
    "m.put_in_pouch('kitten')\n",
    "print(m.pouch_contents())\n",
    "\n",
    "\n"
   ]
  },
  {
   "cell_type": "code",
   "execution_count": 15,
   "id": "8341b34f",
   "metadata": {},
   "outputs": [
    {
     "name": "stdout",
     "output_type": "stream",
     "text": [
      "I am a Kangaroo located at coordinates (0,0)\n",
      "['doll', 'firetruck', 'kitten']\n",
      "I am a Kangaroo located at coordinates (3,0)\n"
     ]
    }
   ],
   "source": [
    "# Question 3 Continue\n",
    "\n",
    "#Inheriting class \n",
    "\n",
    "class Kangaroo(Marsupial):\n",
    "    def __init__(sf, x=0, y=0):        #constructor\n",
    "        super().__init__()             #calling super class fn\n",
    "        sf.x = x\n",
    "        sf.y = y\n",
    "\n",
    "    def jump(sf, dx, dy):\n",
    "        sf.x += dx\n",
    "        sf.y += dy\n",
    "        \n",
    "    def __str__(sf):\n",
    "        return f\"I am a Kangaroo located at coordinates ({sf.x},{sf.y})\"\n",
    "\n",
    "    \n",
    "k = Kangaroo(0, 0)\n",
    "print(k)\n",
    "k.put_in_pouch('doll')\n",
    "k.put_in_pouch('firetruck')\n",
    "k.put_in_pouch('kitten')\n",
    "print(k.pouch_contents())\n",
    "k.jump(1, 0)\n",
    "k.jump(1, 0)\n",
    "k.jump(1, 0)\n",
    "print(k)"
   ]
  },
  {
   "cell_type": "code",
   "execution_count": 16,
   "id": "4334f3a2",
   "metadata": {},
   "outputs": [
    {
     "name": "stdout",
     "output_type": "stream",
     "text": [
      "Enter an Integer:10\n",
      "10\n",
      "5\n",
      "16\n",
      "8\n",
      "4\n",
      "2\n",
      "1\n"
     ]
    }
   ],
   "source": [
    "#Question 4\n",
    "\n",
    "def collatz(x):\n",
    "    print(x, end='\\n')\n",
    "    if num < 1 :                                        #checking positive integer or not\n",
    "        print(\"\\nInput value is not an Integer\")\n",
    "    else : \n",
    "        if x == 1:\n",
    "            return\n",
    "        elif x % 2 == 0:\n",
    "            collatz(x//2)      # recursive calling\n",
    "        else:\n",
    "            collatz(3*x + 1)    # recursive calling\n",
    "        \n",
    "\n",
    "a = input(\"Enter an Integer:\")   #Taking dynamic input\n",
    "num = int(a)\n",
    "collatz(num)   #calling function collatz\n"
   ]
  },
  {
   "cell_type": "code",
   "execution_count": 17,
   "id": "176d8ee7",
   "metadata": {},
   "outputs": [
    {
     "name": "stdout",
     "output_type": "stream",
     "text": [
      "1\n"
     ]
    }
   ],
   "source": [
    "collatz(1)  #calling function collatz"
   ]
  },
  {
   "cell_type": "code",
   "execution_count": 18,
   "id": "9e60e1e4",
   "metadata": {},
   "outputs": [
    {
     "name": "stdout",
     "output_type": "stream",
     "text": [
      "10\n",
      "5\n",
      "16\n",
      "8\n",
      "4\n",
      "2\n",
      "1\n"
     ]
    }
   ],
   "source": [
    "collatz(10)   #calling function collatz"
   ]
  },
  {
   "cell_type": "code",
   "execution_count": 19,
   "id": "02e2c190",
   "metadata": {},
   "outputs": [
    {
     "name": "stdout",
     "output_type": "stream",
     "text": [
      "Enter the number: 32\n",
      "1 0 0 0 0 0 "
     ]
    }
   ],
   "source": [
    "#question 5:\n",
    "\n",
    "def binary(n):\n",
    "    if n < 0 :\n",
    "         print(\"\\nInput value is not an Integer\")       #checking positive integer or not\n",
    "    else :\n",
    "        if n > 1:\n",
    "            binary(n//2)                    # recursive calling\n",
    "        print(n % 2,end = ' ')\n",
    "        \n",
    "    \n",
    "    \n",
    "num = int(input(\"Enter the number: \"));    #Taking dynamic input\n",
    "binary(num)                                #calling function binary\n",
    "    \n",
    "\n"
   ]
  },
  {
   "cell_type": "code",
   "execution_count": 20,
   "id": "15783dd8",
   "metadata": {},
   "outputs": [
    {
     "name": "stdout",
     "output_type": "stream",
     "text": [
      "0 "
     ]
    }
   ],
   "source": [
    "binary(0)     #calling function binary\n"
   ]
  },
  {
   "cell_type": "code",
   "execution_count": 21,
   "id": "83c274de",
   "metadata": {},
   "outputs": [
    {
     "name": "stdout",
     "output_type": "stream",
     "text": [
      "1 "
     ]
    }
   ],
   "source": [
    "binary(1)     #calling function binary\n"
   ]
  },
  {
   "cell_type": "code",
   "execution_count": 22,
   "id": "c4bfa53a",
   "metadata": {},
   "outputs": [
    {
     "name": "stdout",
     "output_type": "stream",
     "text": [
      "1 1 "
     ]
    }
   ],
   "source": [
    "binary(3)     #calling function binary\n"
   ]
  },
  {
   "cell_type": "code",
   "execution_count": 23,
   "id": "9e570649",
   "metadata": {},
   "outputs": [
    {
     "name": "stdout",
     "output_type": "stream",
     "text": [
      "1 0 0 1 "
     ]
    }
   ],
   "source": [
    "binary(9)     #calling function binary"
   ]
  },
  {
   "cell_type": "code",
   "execution_count": 24,
   "id": "492a2814",
   "metadata": {},
   "outputs": [
    {
     "name": "stdout",
     "output_type": "stream",
     "text": [
      "Invalid tag: html\n",
      "Invalid tag: head\n",
      " W3C Mission\n",
      "  Principles\n"
     ]
    }
   ],
   "source": [
    "#Question 6\n",
    "\n",
    "from html.parser import HTMLParser\n",
    "\n",
    "class HeadingParser(HTMLParser):\n",
    "    def __init__(sf):               #constructor\n",
    "        super().__init__()\n",
    "        sf.heads = []\n",
    "\n",
    "    def handle_starttag(sf, tag, atrs):  # to detect heading tags\n",
    "        try:\n",
    "            if tag.startswith('h'):\n",
    "                sf.heads.append((int(tag[1:]), ''))\n",
    "        except ValueError:\n",
    "            print(f\"Invalid tag: {tag}\")  \n",
    "\n",
    "    def handle_endtag(sf, tag):  \n",
    "        pass\n",
    "\n",
    "    def handle_data(sf, dt):     #to extract the text content of the heading tags\n",
    "        if sf.heads:\n",
    "            lst_head = sf.heads[-1]\n",
    "            sf.heads[-1] = (lst_head[0], lst_head[1] + dt.strip())\n",
    "\n",
    "    def print_headings(sf):   #prints the headings\n",
    "        for hd in sf.heads:\n",
    "            print(' ' * hd[0] + hd[1])\n",
    "\n",
    "# Test with w3c.html\n",
    "\n",
    "\n",
    "with open('w3c.html', 'r') as f:    #reading html file\n",
    "    html = f.read()\n",
    "\n",
    "parser = HeadingParser()\n",
    "parser.feed(html)\n",
    "parser.print_headings()"
   ]
  },
  {
   "cell_type": "code",
   "execution_count": 25,
   "id": "6d31a6af",
   "metadata": {
    "scrolled": true
   },
   "outputs": [
    {
     "name": "stdout",
     "output_type": "stream",
     "text": [
      "http://reed.cs.depaul.edu/lperkovic/csc242/test1.html\n"
     ]
    }
   ],
   "source": [
    "#Question7\n",
    "\n",
    "from urllib.request import urlopen\n",
    "from bs4 import BeautifulSoup\n",
    "\n",
    "def webdir(url, depth, indent):\n",
    "    print(' ' * indent + url)\n",
    "    if depth == 0:\n",
    "        return\n",
    "    try:\n",
    "        html = urlopen(url)\n",
    "    except:\n",
    "        return\n",
    "    soup = BeautifulSoup(html, 'html.parser')\n",
    "    \n",
    "    for link in soup.find_all('a'):\n",
    "        href = link.get('href')\n",
    "        if href.startswith('http'):\n",
    "            \n",
    "            webdir(href, depth-1, indent+1)\n",
    "            \n",
    "webdir('http://reed.cs.depaul.edu/lperkovic/csc242/test1.html', 5, 0)\n",
    "\n"
   ]
  },
  {
   "cell_type": "code",
   "execution_count": null,
   "id": "a3f9383c",
   "metadata": {},
   "outputs": [],
   "source": [
    "!pip install ipython-sql"
   ]
  },
  {
   "cell_type": "code",
   "execution_count": null,
   "id": "1068bbe1",
   "metadata": {},
   "outputs": [],
   "source": [
    "# Question 8\n",
    "\n",
    "\n",
    "!pip install ipython-sql\n"
   ]
  },
  {
   "cell_type": "code",
   "execution_count": null,
   "id": "44953fc7",
   "metadata": {},
   "outputs": [],
   "source": [
    "import sqlite3\n",
    "\n",
    "conn = sqlite3.connect('We_DB.db')\n",
    "cur = conn.cursor()\n",
    "cur.execute('CREATE TABLE weather (City TEXT, Country TEXT, Season TEXT,Temperature FLOAT,Rainfall FLOAT)')\n",
    "cur.execute(\"INSERT INTO weather VALUES ('Mumbai','India','Winter','24.8','5.9')\")\n",
    "cur.execute(\"INSERT INTO weather VALUES ('Mumbai','India','Spring','28.4','16.2')\")\n",
    "cur.execute(\"INSERT INTO weather VALUES ('Mumbai','India','Summer','27.9','1549.4')\")\n",
    "cur.execute(\"INSERT INTO weather VALUES ('Mumbai','India','Fall','27.6','346.0')\")\n",
    "cur.execute(\"INSERT INTO weather VALUES ('London','United Kingdom','Winter','4.2','207.7')\")\n",
    "cur.execute(\"INSERT INTO weather VALUES ('London','United Kingdom','Spring','8.3','169.6')\")\n",
    "cur.execute(\"INSERT INTO weather VALUES ('London','United Kingdom','Summer','15.7','157.0')\")\n",
    "cur.execute(\"INSERT INTO weather VALUES ('London','United Kingdom','Fall','10.4','218.5')\")\n",
    "cur.execute(\"INSERT INTO weather VALUES ('Cairo','Egypt','Winter','13.6','16.5')\")\n",
    "cur.execute(\"INSERT INTO weather VALUES ('Cairo','Egypt','Spring','20.7','6.5')\")\n",
    "cur.execute(\"INSERT INTO weather VALUES ('Cairo','Egypt','Summer','27.7','0.1')\")\n",
    "cur.execute(\"INSERT INTO weather VALUES ('Cairo','Egypt','Fall','22.2','4.5')\")\n",
    "\n",
    "conn.commit()\n",
    "c = conn.cursor()\n"
   ]
  },
  {
   "cell_type": "code",
   "execution_count": 1,
   "id": "b7a1b995",
   "metadata": {},
   "outputs": [],
   "source": [
    "%load_ext sql\n",
    "%sql sqlite:///WE_DB.db\n",
    "\n",
    "\n"
   ]
  },
  {
   "cell_type": "code",
   "execution_count": 3,
   "id": "1de8c32f",
   "metadata": {},
   "outputs": [
    {
     "name": "stdout",
     "output_type": "stream",
     "text": [
      " * sqlite:///WE_DB.db\n",
      "Done.\n"
     ]
    },
    {
     "data": {
      "text/html": [
       "<table>\n",
       "    <thead>\n",
       "        <tr>\n",
       "            <th>City</th>\n",
       "            <th>Country</th>\n",
       "            <th>Season</th>\n",
       "            <th>Temperature</th>\n",
       "            <th>Rainfall</th>\n",
       "        </tr>\n",
       "    </thead>\n",
       "    <tbody>\n",
       "        <tr>\n",
       "            <td>Mumbai</td>\n",
       "            <td>India</td>\n",
       "            <td>Winter</td>\n",
       "            <td>24.8</td>\n",
       "            <td>5.9</td>\n",
       "        </tr>\n",
       "        <tr>\n",
       "            <td>Mumbai</td>\n",
       "            <td>India</td>\n",
       "            <td>Spring</td>\n",
       "            <td>28.4</td>\n",
       "            <td>16.2</td>\n",
       "        </tr>\n",
       "        <tr>\n",
       "            <td>Mumbai</td>\n",
       "            <td>India</td>\n",
       "            <td>Summer</td>\n",
       "            <td>27.9</td>\n",
       "            <td>1549.4</td>\n",
       "        </tr>\n",
       "        <tr>\n",
       "            <td>Mumbai</td>\n",
       "            <td>India</td>\n",
       "            <td>Fall</td>\n",
       "            <td>27.6</td>\n",
       "            <td>346.0</td>\n",
       "        </tr>\n",
       "        <tr>\n",
       "            <td>London</td>\n",
       "            <td>United Kingdom</td>\n",
       "            <td>Winter</td>\n",
       "            <td>4.2</td>\n",
       "            <td>207.7</td>\n",
       "        </tr>\n",
       "        <tr>\n",
       "            <td>London</td>\n",
       "            <td>United Kingdom</td>\n",
       "            <td>Spring</td>\n",
       "            <td>8.3</td>\n",
       "            <td>169.6</td>\n",
       "        </tr>\n",
       "        <tr>\n",
       "            <td>London</td>\n",
       "            <td>United Kingdom</td>\n",
       "            <td>Summer</td>\n",
       "            <td>15.7</td>\n",
       "            <td>157.0</td>\n",
       "        </tr>\n",
       "        <tr>\n",
       "            <td>London</td>\n",
       "            <td>United Kingdom</td>\n",
       "            <td>Fall</td>\n",
       "            <td>10.4</td>\n",
       "            <td>218.5</td>\n",
       "        </tr>\n",
       "        <tr>\n",
       "            <td>Cairo</td>\n",
       "            <td>Egypt</td>\n",
       "            <td>Winter</td>\n",
       "            <td>13.6</td>\n",
       "            <td>16.5</td>\n",
       "        </tr>\n",
       "        <tr>\n",
       "            <td>Cairo</td>\n",
       "            <td>Egypt</td>\n",
       "            <td>Spring</td>\n",
       "            <td>20.7</td>\n",
       "            <td>6.5</td>\n",
       "        </tr>\n",
       "        <tr>\n",
       "            <td>Cairo</td>\n",
       "            <td>Egypt</td>\n",
       "            <td>Summer</td>\n",
       "            <td>27.7</td>\n",
       "            <td>0.1</td>\n",
       "        </tr>\n",
       "        <tr>\n",
       "            <td>Cairo</td>\n",
       "            <td>Egypt</td>\n",
       "            <td>Fall</td>\n",
       "            <td>22.2</td>\n",
       "            <td>4.5</td>\n",
       "        </tr>\n",
       "    </tbody>\n",
       "</table>"
      ],
      "text/plain": [
       "[('Mumbai', 'India', 'Winter', 24.8, 5.9),\n",
       " ('Mumbai', 'India', 'Spring', 28.4, 16.2),\n",
       " ('Mumbai', 'India', 'Summer', 27.9, 1549.4),\n",
       " ('Mumbai', 'India', 'Fall', 27.6, 346.0),\n",
       " ('London', 'United Kingdom', 'Winter', 4.2, 207.7),\n",
       " ('London', 'United Kingdom', 'Spring', 8.3, 169.6),\n",
       " ('London', 'United Kingdom', 'Summer', 15.7, 157.0),\n",
       " ('London', 'United Kingdom', 'Fall', 10.4, 218.5),\n",
       " ('Cairo', 'Egypt', 'Winter', 13.6, 16.5),\n",
       " ('Cairo', 'Egypt', 'Spring', 20.7, 6.5),\n",
       " ('Cairo', 'Egypt', 'Summer', 27.7, 0.1),\n",
       " ('Cairo', 'Egypt', 'Fall', 22.2, 4.5)]"
      ]
     },
     "execution_count": 3,
     "metadata": {},
     "output_type": "execute_result"
    }
   ],
   "source": [
    "%%sql\n",
    "\n",
    "SELECT * FROM weather"
   ]
  },
  {
   "cell_type": "code",
   "execution_count": 4,
   "id": "8098323d",
   "metadata": {},
   "outputs": [
    {
     "name": "stdout",
     "output_type": "stream",
     "text": [
      " * sqlite:///WE_DB.db\n",
      "Done.\n"
     ]
    },
    {
     "data": {
      "text/html": [
       "<table>\n",
       "    <thead>\n",
       "        <tr>\n",
       "            <th>Temperature</th>\n",
       "        </tr>\n",
       "    </thead>\n",
       "    <tbody>\n",
       "        <tr>\n",
       "            <td>24.8</td>\n",
       "        </tr>\n",
       "        <tr>\n",
       "            <td>28.4</td>\n",
       "        </tr>\n",
       "        <tr>\n",
       "            <td>27.9</td>\n",
       "        </tr>\n",
       "        <tr>\n",
       "            <td>27.6</td>\n",
       "        </tr>\n",
       "        <tr>\n",
       "            <td>4.2</td>\n",
       "        </tr>\n",
       "        <tr>\n",
       "            <td>8.3</td>\n",
       "        </tr>\n",
       "        <tr>\n",
       "            <td>15.7</td>\n",
       "        </tr>\n",
       "        <tr>\n",
       "            <td>10.4</td>\n",
       "        </tr>\n",
       "        <tr>\n",
       "            <td>13.6</td>\n",
       "        </tr>\n",
       "        <tr>\n",
       "            <td>20.7</td>\n",
       "        </tr>\n",
       "        <tr>\n",
       "            <td>27.7</td>\n",
       "        </tr>\n",
       "        <tr>\n",
       "            <td>22.2</td>\n",
       "        </tr>\n",
       "    </tbody>\n",
       "</table>"
      ],
      "text/plain": [
       "[(24.8,),\n",
       " (28.4,),\n",
       " (27.9,),\n",
       " (27.6,),\n",
       " (4.2,),\n",
       " (8.3,),\n",
       " (15.7,),\n",
       " (10.4,),\n",
       " (13.6,),\n",
       " (20.7,),\n",
       " (27.7,),\n",
       " (22.2,)]"
      ]
     },
     "execution_count": 4,
     "metadata": {},
     "output_type": "execute_result"
    }
   ],
   "source": [
    "%%sql\n",
    "SELECT Temperature FROM weather\n",
    "\n"
   ]
  },
  {
   "cell_type": "code",
   "execution_count": 5,
   "id": "4455c325",
   "metadata": {},
   "outputs": [
    {
     "name": "stdout",
     "output_type": "stream",
     "text": [
      " * sqlite:///WE_DB.db\n",
      "Done.\n"
     ]
    },
    {
     "data": {
      "text/html": [
       "<table>\n",
       "    <thead>\n",
       "        <tr>\n",
       "            <th>City</th>\n",
       "        </tr>\n",
       "    </thead>\n",
       "    <tbody>\n",
       "        <tr>\n",
       "            <td>Mumbai</td>\n",
       "        </tr>\n",
       "        <tr>\n",
       "            <td>London</td>\n",
       "        </tr>\n",
       "        <tr>\n",
       "            <td>Cairo</td>\n",
       "        </tr>\n",
       "    </tbody>\n",
       "</table>"
      ],
      "text/plain": [
       "[('Mumbai',), ('London',), ('Cairo',)]"
      ]
     },
     "execution_count": 5,
     "metadata": {},
     "output_type": "execute_result"
    }
   ],
   "source": [
    "%%sql\n",
    "\n",
    "SELECT DISTINCT City FROM weather"
   ]
  },
  {
   "cell_type": "code",
   "execution_count": 6,
   "id": "9a77df5d",
   "metadata": {},
   "outputs": [
    {
     "name": "stdout",
     "output_type": "stream",
     "text": [
      " * sqlite:///WE_DB.db\n",
      "Done.\n"
     ]
    },
    {
     "data": {
      "text/html": [
       "<table>\n",
       "    <thead>\n",
       "        <tr>\n",
       "            <th>City</th>\n",
       "            <th>Country</th>\n",
       "            <th>Season</th>\n",
       "            <th>Temperature</th>\n",
       "            <th>Rainfall</th>\n",
       "        </tr>\n",
       "    </thead>\n",
       "    <tbody>\n",
       "        <tr>\n",
       "            <td>Mumbai</td>\n",
       "            <td>India</td>\n",
       "            <td>Winter</td>\n",
       "            <td>24.8</td>\n",
       "            <td>5.9</td>\n",
       "        </tr>\n",
       "        <tr>\n",
       "            <td>Mumbai</td>\n",
       "            <td>India</td>\n",
       "            <td>Spring</td>\n",
       "            <td>28.4</td>\n",
       "            <td>16.2</td>\n",
       "        </tr>\n",
       "        <tr>\n",
       "            <td>Mumbai</td>\n",
       "            <td>India</td>\n",
       "            <td>Summer</td>\n",
       "            <td>27.9</td>\n",
       "            <td>1549.4</td>\n",
       "        </tr>\n",
       "        <tr>\n",
       "            <td>Mumbai</td>\n",
       "            <td>India</td>\n",
       "            <td>Fall</td>\n",
       "            <td>27.6</td>\n",
       "            <td>346.0</td>\n",
       "        </tr>\n",
       "    </tbody>\n",
       "</table>"
      ],
      "text/plain": [
       "[('Mumbai', 'India', 'Winter', 24.8, 5.9),\n",
       " ('Mumbai', 'India', 'Spring', 28.4, 16.2),\n",
       " ('Mumbai', 'India', 'Summer', 27.9, 1549.4),\n",
       " ('Mumbai', 'India', 'Fall', 27.6, 346.0)]"
      ]
     },
     "execution_count": 6,
     "metadata": {},
     "output_type": "execute_result"
    }
   ],
   "source": [
    "%%sql\n",
    "\n",
    "SELECT * FROM weather WHERE Country = 'India'"
   ]
  },
  {
   "cell_type": "code",
   "execution_count": 7,
   "id": "136d5f79",
   "metadata": {},
   "outputs": [
    {
     "name": "stdout",
     "output_type": "stream",
     "text": [
      " * sqlite:///WE_DB.db\n",
      "Done.\n"
     ]
    },
    {
     "data": {
      "text/html": [
       "<table>\n",
       "    <thead>\n",
       "        <tr>\n",
       "            <th>City</th>\n",
       "            <th>Country</th>\n",
       "            <th>Season</th>\n",
       "            <th>Temperature</th>\n",
       "            <th>Rainfall</th>\n",
       "        </tr>\n",
       "    </thead>\n",
       "    <tbody>\n",
       "        <tr>\n",
       "            <td>Mumbai</td>\n",
       "            <td>India</td>\n",
       "            <td>Fall</td>\n",
       "            <td>27.6</td>\n",
       "            <td>346.0</td>\n",
       "        </tr>\n",
       "        <tr>\n",
       "            <td>London</td>\n",
       "            <td>United Kingdom</td>\n",
       "            <td>Fall</td>\n",
       "            <td>10.4</td>\n",
       "            <td>218.5</td>\n",
       "        </tr>\n",
       "        <tr>\n",
       "            <td>Cairo</td>\n",
       "            <td>Egypt</td>\n",
       "            <td>Fall</td>\n",
       "            <td>22.2</td>\n",
       "            <td>4.5</td>\n",
       "        </tr>\n",
       "    </tbody>\n",
       "</table>"
      ],
      "text/plain": [
       "[('Mumbai', 'India', 'Fall', 27.6, 346.0),\n",
       " ('London', 'United Kingdom', 'Fall', 10.4, 218.5),\n",
       " ('Cairo', 'Egypt', 'Fall', 22.2, 4.5)]"
      ]
     },
     "execution_count": 7,
     "metadata": {},
     "output_type": "execute_result"
    }
   ],
   "source": [
    "%%sql\n",
    "SELECT * FROM weather WHERE Season = 'Fall'"
   ]
  },
  {
   "cell_type": "code",
   "execution_count": 8,
   "id": "f2eede67",
   "metadata": {},
   "outputs": [
    {
     "name": "stdout",
     "output_type": "stream",
     "text": [
      " * sqlite:///WE_DB.db\n",
      "Done.\n"
     ]
    },
    {
     "data": {
      "text/html": [
       "<table>\n",
       "    <thead>\n",
       "        <tr>\n",
       "            <th>City</th>\n",
       "            <th>Country</th>\n",
       "            <th>Season</th>\n",
       "            <th>avg_rain</th>\n",
       "        </tr>\n",
       "    </thead>\n",
       "    <tbody>\n",
       "        <tr>\n",
       "            <td>London</td>\n",
       "            <td>United Kingdom</td>\n",
       "            <td>Fall</td>\n",
       "            <td>218.5</td>\n",
       "        </tr>\n",
       "        <tr>\n",
       "            <td>London</td>\n",
       "            <td>United Kingdom</td>\n",
       "            <td>Winter</td>\n",
       "            <td>207.7</td>\n",
       "        </tr>\n",
       "        <tr>\n",
       "            <td>Mumbai</td>\n",
       "            <td>India</td>\n",
       "            <td>Fall</td>\n",
       "            <td>346.0</td>\n",
       "        </tr>\n",
       "    </tbody>\n",
       "</table>"
      ],
      "text/plain": [
       "[('London', 'United Kingdom', 'Fall', 218.5),\n",
       " ('London', 'United Kingdom', 'Winter', 207.7),\n",
       " ('Mumbai', 'India', 'Fall', 346.0)]"
      ]
     },
     "execution_count": 8,
     "metadata": {},
     "output_type": "execute_result"
    }
   ],
   "source": [
    "%%sql\n",
    "\n",
    "SELECT City, Country, Season, AVG(Rainfall) as avg_rain\n",
    "FROM weather\n",
    "GROUP BY City, Country, Season\n",
    "HAVING avg_rain >= 200 AND avg_rain <= 400;"
   ]
  },
  {
   "cell_type": "code",
   "execution_count": 9,
   "id": "bad8611e",
   "metadata": {},
   "outputs": [
    {
     "name": "stdout",
     "output_type": "stream",
     "text": [
      " * sqlite:///WE_DB.db\n",
      "Done.\n"
     ]
    },
    {
     "data": {
      "text/html": [
       "<table>\n",
       "    <thead>\n",
       "        <tr>\n",
       "            <th>City</th>\n",
       "            <th>Country</th>\n",
       "            <th>Avg_temp</th>\n",
       "        </tr>\n",
       "    </thead>\n",
       "    <tbody>\n",
       "        <tr>\n",
       "            <td>Cairo</td>\n",
       "            <td>Egypt</td>\n",
       "            <td>22.2</td>\n",
       "        </tr>\n",
       "        <tr>\n",
       "            <td>Mumbai</td>\n",
       "            <td>India</td>\n",
       "            <td>27.6</td>\n",
       "        </tr>\n",
       "    </tbody>\n",
       "</table>"
      ],
      "text/plain": [
       "[('Cairo', 'Egypt', 22.2), ('Mumbai', 'India', 27.6)]"
      ]
     },
     "execution_count": 9,
     "metadata": {},
     "output_type": "execute_result"
    }
   ],
   "source": [
    "%%sql\n",
    "SELECT City, Country, AVG(Temperature) AS Avg_temp FROM weather \n",
    "WHERE Season = 'Fall' AND Temperature > 20\n",
    "GROUP BY City, Country\n",
    "HAVING Avg_temp > 20\n",
    "ORDER BY Avg_temp ASC;"
   ]
  },
  {
   "cell_type": "code",
   "execution_count": 10,
   "id": "7598edb0",
   "metadata": {},
   "outputs": [
    {
     "name": "stdout",
     "output_type": "stream",
     "text": [
      " * sqlite:///WE_DB.db\n",
      "Done.\n"
     ]
    },
    {
     "data": {
      "text/html": [
       "<table>\n",
       "    <thead>\n",
       "        <tr>\n",
       "            <th>SUM(Rainfall)</th>\n",
       "        </tr>\n",
       "    </thead>\n",
       "    <tbody>\n",
       "        <tr>\n",
       "            <td>27.6</td>\n",
       "        </tr>\n",
       "    </tbody>\n",
       "</table>"
      ],
      "text/plain": [
       "[(27.6,)]"
      ]
     },
     "execution_count": 10,
     "metadata": {},
     "output_type": "execute_result"
    }
   ],
   "source": [
    "%%sql\n",
    "SELECT SUM(Rainfall) FROM weather WHERE City='Cairo'"
   ]
  },
  {
   "cell_type": "code",
   "execution_count": 11,
   "id": "28ecd82f",
   "metadata": {},
   "outputs": [
    {
     "name": "stdout",
     "output_type": "stream",
     "text": [
      " * sqlite:///WE_DB.db\n",
      "Done.\n"
     ]
    },
    {
     "data": {
      "text/html": [
       "<table>\n",
       "    <thead>\n",
       "        <tr>\n",
       "            <th>SUM(Rainfall)</th>\n",
       "        </tr>\n",
       "    </thead>\n",
       "    <tbody>\n",
       "        <tr>\n",
       "            <td>569.0</td>\n",
       "        </tr>\n",
       "        <tr>\n",
       "            <td>192.29999999999998</td>\n",
       "        </tr>\n",
       "        <tr>\n",
       "            <td>1706.5</td>\n",
       "        </tr>\n",
       "        <tr>\n",
       "            <td>230.1</td>\n",
       "        </tr>\n",
       "    </tbody>\n",
       "</table>"
      ],
      "text/plain": [
       "[(569.0,), (192.29999999999998,), (1706.5,), (230.1,)]"
      ]
     },
     "execution_count": 11,
     "metadata": {},
     "output_type": "execute_result"
    }
   ],
   "source": [
    "%%sql\n",
    "SELECT SUM(Rainfall) FROM weather GROUP BY Season"
   ]
  },
  {
   "cell_type": "code",
   "execution_count": 12,
   "id": "5e9c0d2f",
   "metadata": {},
   "outputs": [
    {
     "name": "stdout",
     "output_type": "stream",
     "text": [
      "\n",
      "a) ['THE', 'QUICK', 'BROWN', 'FOX', 'JUMPS', 'OVER', 'THE', 'LAZY', 'DOG']\n",
      "\n",
      "b) ['the', 'quick', 'brown', 'fox', 'jumps', 'over', 'the', 'lazy', 'dog']\n",
      "\n",
      "c) [3, 5, 5, 3, 5, 4, 3, 4, 3]\n",
      "\n",
      "e) [['THE', 'the', 3], ['QUICK', 'quick', 5], ['BROWN', 'brown', 5], ['FOX', 'fox', 3], ['JUMPS', 'jumps', 5], ['OVER', 'over', 4], ['THE', 'the', 3], ['LAZY', 'lazy', 4], ['DOG', 'dog', 3]]\n",
      "\n",
      "d) ['quick', 'brown', 'jumps', 'over', 'lazy']\n"
     ]
    }
   ],
   "source": [
    "words = ['The', 'quick', 'brown', 'fox', 'jumps', 'over', 'the', 'lazy', 'dog']\n",
    "Out_Lst1, Out_Lst2, Out_Lst3, Out_Lst4,Out_Lst5  = [],[],[],[],[]\n",
    "\n",
    "for w in words:\n",
    "    Out_Lst1.append(w.upper())\n",
    "    Out_Lst2.append(w.lower())\n",
    "    Out_Lst3.append(len(w))\n",
    "    if (len(w) >=4):\n",
    "        Out_Lst4.append(w)\n",
    "\n",
    "for i in range(len(words)):\n",
    "     Out_Lst5.append([Out_Lst1[i], Out_Lst2[i], Out_Lst3[i]])\n",
    "   \n",
    "\n",
    "#printing all datas\n",
    "print(\"\\na)\",Out_Lst1)\n",
    "print(\"\\nb)\",Out_Lst2)\n",
    "print(\"\\nc)\",Out_Lst3)\n",
    "print(\"\\ne)\",Out_Lst5)\n",
    "print(\"\\nd)\",Out_Lst4)"
   ]
  },
  {
   "cell_type": "code",
   "execution_count": null,
   "id": "eba1b0f0",
   "metadata": {},
   "outputs": [],
   "source": []
  },
  {
   "cell_type": "code",
   "execution_count": null,
   "id": "6ff7814e",
   "metadata": {},
   "outputs": [],
   "source": []
  },
  {
   "cell_type": "code",
   "execution_count": null,
   "id": "72a591bf",
   "metadata": {},
   "outputs": [],
   "source": []
  }
 ],
 "metadata": {
  "kernelspec": {
   "display_name": "Python 3 (ipykernel)",
   "language": "python",
   "name": "python3"
  },
  "language_info": {
   "codemirror_mode": {
    "name": "ipython",
    "version": 3
   },
   "file_extension": ".py",
   "mimetype": "text/x-python",
   "name": "python",
   "nbconvert_exporter": "python",
   "pygments_lexer": "ipython3",
   "version": "3.9.13"
  }
 },
 "nbformat": 4,
 "nbformat_minor": 5
}
